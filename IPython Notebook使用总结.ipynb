{
 "cells": [
  {
   "cell_type": "markdown",
   "metadata": {},
   "source": [
    "## IPython Notebook简介 "
   ]
  },
  {
   "cell_type": "markdown",
   "metadata": {},
   "source": [
    "IPython Notebook 既是一个交互计算平台，又是一个记录计算过程的「笔记本」。它由服务端和客户端两部分组成，其中服务端负责代码的解释与计算，而客户端负责与用户进行交互。服务端可以运行在本机也可以运行在远程服务器，包含负责运算的 IPython kernel (与 QT Console 的 kernel 相同) 以及一个 HTTP/S 服务器 (Tornado)。而客户端则是一个指向服务端地址的浏览器页面，负责接受用户的输入并负责渲染输出。\n",
    "\n",
    "我在windows下直接使用Anaconda3集成的IPython Notebook的环境，在windows使用Anaconda3可以省去很多手动安装包不兼容的麻烦。\n",
    "在console中启动：ipython notebook"
   ]
  },
  {
   "cell_type": "markdown",
   "metadata": {},
   "source": [
    "## 安装MathJax "
   ]
  },
  {
   "cell_type": "raw",
   "metadata": {},
   "source": [
    "安装插件MathJax,latex数学公式支持\n",
    "from IPython.external.mathjax import install_mathjax\n",
    "install_mathjax()"
   ]
  },
  {
   "cell_type": "markdown",
   "metadata": {},
   "source": [
    "## 使用技巧总结"
   ]
  },
  {
   "cell_type": "markdown",
   "metadata": {},
   "source": [
    "1. 如果在函数、模块、类后面输入‘?’，按住Ctrl-Entry的话就回跳出帮助文档。如果是两个‘??’将显示更加详细的信息。\n",
    "2. 输入%matplotlib inline将matplotlib库导入\n",
    "    %matplotlib inline\n",
    "    import matplotlib.pyplot as plt\n",
    "    import numpy as np\n",
    "    x = np.linspace(0, 3*np.pi, 500)\n",
    "    plt.plot(x, np.sin(x**2))\n",
    "    plt.title('A simple chirp')\n",
    "\n",
    "3. 在File->Download as 可以保持成所需要的格式\n",
    "4. %load 导入代码\n",
    "    %load \n",
    "    http://matplotlib.org/mpl_examples/pylab_examples/histogram_demo.py\n",
    "\n",
    "5. IPython中Magic命令有两种执行方式，以%开始的命令被称为行命令，它只对单行有效。以%%开头的为单元命令，它放在单元的第一行，对整个单元有效。\n",
    "6. %%prun命令调用profile模块，对单元中的代码进行性能剖析。\n",
    "7. %timeit调用timeit模块对单行语句重复执行多次，计算出其执行时间。%%timeit则用于测试整个单元中代码的执行时间。\n",
    "8. Kernel目录->\n",
    "    Interrupt: 中断运行当前的程序，当程序进入死循环时可以通过它中断程序运行。\n",
    "    Restart: 当程序在二进制库中进入死循环，无法通过Interrupt中断时，可以通过此选项重新启动Kernel进程。\n",
    "    %debug\n",
    "    %run?\n",
    "\n",
    "9. 快捷键\n",
    "    Shift-Enter: run cell\n",
    "    Ctrl-Enter: run cell in-place\n",
    "    Alt-Enter: run cell, insert below\n",
    "    Esc and Enter: Command mode and edit mode"
   ]
  },
  {
   "cell_type": "markdown",
   "metadata": {},
   "source": [
    "## 参考资料"
   ]
  },
  {
   "cell_type": "markdown",
   "metadata": {},
   "source": [
    "[The IPython notebook](http://ipython.org/ipython-doc/dev/notebook/index.html)\n"
   ]
  }
 ],
 "metadata": {
  "kernelspec": {
   "display_name": "Python 3",
   "language": "python",
   "name": "python3"
  },
  "language_info": {
   "codemirror_mode": {
    "name": "ipython",
    "version": 3
   },
   "file_extension": ".py",
   "mimetype": "text/x-python",
   "name": "python",
   "nbconvert_exporter": "python",
   "pygments_lexer": "ipython3",
   "version": "3.5.1"
  }
 },
 "nbformat": 4,
 "nbformat_minor": 0
}
