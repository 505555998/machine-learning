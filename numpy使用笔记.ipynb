{
 "cells": [
  {
   "cell_type": "markdown",
   "metadata": {},
   "source": [
    "## 常用的NumPy数组对象创建方式"
   ]
  },
  {
   "cell_type": "markdown",
   "metadata": {},
   "source": [
    "+ np.array()\n",
    "接受list对象"
   ]
  },
  {
   "cell_type": "raw",
   "metadata": {
    "collapsed": false
   },
   "source": [
    "np.array([1,2,3,4,5], dtype=np.int32)\n",
    "np.array([[1,2,3],[4,5,6]])"
   ]
  },
  {
   "cell_type": "markdown",
   "metadata": {
    "collapsed": true
   },
   "source": [
    "+ np.ones(n)\n",
    "+ np.zeros(n)\n",
    "+ np.arange(n) <-> np.array([0,1,2,...,n-1])"
   ]
  },
  {
   "cell_type": "markdown",
   "metadata": {},
   "source": [
    "## 与标量运算"
   ]
  },
  {
   "cell_type": "markdown",
   "metadata": {},
   "source": [
    "+ 数组与标量之间的运算将会应用到每个元素上。eg. 1/arr; arr \\*\\* 0.5\n",
    "+ 同维度的数组之间进行运算时作用域相同位置的元素之间运算。eg. arr * arr; arr - arr"
   ]
  },
  {
   "cell_type": "markdown",
   "metadata": {},
   "source": [
    "## 索引与切片 "
   ]
  },
  {
   "cell_type": "markdown",
   "metadata": {},
   "source": [
    "### 普通切片\n",
    "如一维的数组arr[1:4],这样的选区对象可以整体赋值。  \n",
    "把切片对象赋值给其他变量，仅仅是相当于引用，并没有对源数组对象进行复制。使用arr.copy()方法可以手动复制成新的内存对象。    \n",
    "二维数组选区形式：arr[a:b, c:d]\n",
    "### 布尔型索引\n",
    "bool_array = ...  \n",
    "arr[bool_array]   \n",
    "如果是arr是多维数组arr[bool_array]表示根据bool_array数组选区哪些行，当然也可以在[]中添加对其他维的选取。  \n",
    "注意使用布尔型索引选取的数组中的数据，总是会产生新的内存对象。  \n",
    "数组转置arr.T,注不产生新副本。  \n"
   ]
  },
  {
   "cell_type": "markdown",
   "metadata": {},
   "source": [
    "## 通用函数"
   ]
  },
  {
   "cell_type": "markdown",
   "metadata": {},
   "source": [
    "作用于元素级的numpy通用函数 eg. np.abs(arr)\n",
    "### 一元ufunc\n",
    "abs(), fabs(), sqrt(), square()  \n",
    "exp(), log(), log10(), log2(), log1p(x) <-> log(1+x)  \n",
    "sign(), ceil(), floor(), rint(x) <-> 四舍五入  \n",
    "modf():整数和小数部分分离成两个独立的数组返回  \n",
    "isnan(), isfinite(), isinf()   \n",
    "cos(), sin(), tan(), arccos(), arcsin(), arctan()  \n",
    "logical_not(arr) <->  -arr  \n",
    "### 二元ufunc\n",
    "add(arr1,arr2), subtract(), multiply(), divide(), floor_divide(), power()  \n",
    "maxinum(), fmax()  \n",
    "mininum(), fmin()  \n",
    "mod()  \n",
    "逻辑运算 greater(), greater_equal(), equal(), logical_and(), logical_or(), logical_xor()  "
   ]
  },
  {
   "cell_type": "markdown",
   "metadata": {},
   "source": [
    "## np.where()条件表达式"
   ]
  },
  {
   "cell_type": "markdown",
   "metadata": {},
   "source": [
    "使用numpy自带的方法比if,for要效率要高些。"
   ]
  },
  {
   "cell_type": "code",
   "execution_count": 5,
   "metadata": {
    "collapsed": false
   },
   "outputs": [
    {
     "data": {
      "text/plain": [
       "array([[ 2.        , -0.33287134,  2.        ,  2.        ],\n",
       "       [ 2.        ,  2.        ,  2.        , -0.88559764],\n",
       "       [ 2.        ,  2.        , -1.13396698, -0.32575847],\n",
       "       [-0.91340307,  2.        ,  2.        , -0.63273916]])"
      ]
     },
     "execution_count": 5,
     "metadata": {},
     "output_type": "execute_result"
    }
   ],
   "source": [
    "import numpy as np\n",
    "arr = np.random.randn(4, 4)\n",
    "arr\n",
    "np.where(arr > 0, 2, -2)\n",
    "np.where(arr > 0, 2, arr) # set only positive values to 2"
   ]
  },
  {
   "cell_type": "markdown",
   "metadata": {},
   "source": [
    "## 基本统计方法"
   ]
  },
  {
   "cell_type": "markdown",
   "metadata": {},
   "source": [
    "sum(axis=1)  计算各列的和  \n",
    "mean(axis=1) 计算各列的算术平均数  \n",
    "std(), var() 标准差和方差  \n",
    "min(), max()   \n",
    "argmax(), argmin() 返回最大值和最小的索引位置  \n",
    "cumsum()    所有元素的累计和  \n",
    "cumprod()    所有元素的累计积  \n",
    "any()  是否存在非零的元素  \n",
    "all()  是否不存在非零的元素  \n"
   ]
  },
  {
   "cell_type": "markdown",
   "metadata": {},
   "source": [
    "## 排序"
   ]
  },
  {
   "cell_type": "markdown",
   "metadata": {},
   "source": [
    "argsort函数返回的是数组值从小到大的索引值"
   ]
  },
  {
   "cell_type": "code",
   "execution_count": 6,
   "metadata": {
    "collapsed": false
   },
   "outputs": [
    {
     "data": {
      "text/plain": [
       "array([1, 2, 0], dtype=int64)"
      ]
     },
     "execution_count": 6,
     "metadata": {},
     "output_type": "execute_result"
    }
   ],
   "source": [
    "x = np.array([3, 1, 2])\n",
    "np.argsort(x)"
   ]
  },
  {
   "cell_type": "code",
   "execution_count": 17,
   "metadata": {
    "collapsed": false
   },
   "outputs": [
    {
     "data": {
      "text/plain": [
       "array([[0, 1, 1],\n",
       "       [3, 4, 2]])"
      ]
     },
     "execution_count": 17,
     "metadata": {},
     "output_type": "execute_result"
    }
   ],
   "source": [
    "x = np.array([[3,1,2],[0,4,1]])\n",
    "np.sort(x, axis=0)"
   ]
  },
  {
   "cell_type": "markdown",
   "metadata": {},
   "source": [
    "arr[:,0].sort()  按第一列排序"
   ]
  },
  {
   "cell_type": "markdown",
   "metadata": {},
   "source": [
    "## 集合运算\n",
    "unique(x)      计算x中的唯一元素  \n",
    "intersect1d(x,y)  计算x和y的公共元素，并返回有序结果  \n",
    "union1d(x,y)    计算x和y的病机，并返回有序结果   \n",
    "in1d(x,y)      得到一个表示“x的元素是否包含于y”的布尔型数组   \n",
    "setdiff1d(x,y)   集合的差，即元素在x中且不在y中   \n",
    "setxor1d(x,y)   集合的对称差，即存在于一个数组中但不同时存在于两个数组中的元素   "
   ]
  },
  {
   "cell_type": "markdown",
   "metadata": {},
   "source": [
    "## 文本文件输入输出\n",
    "arr = np.loadtxt(fname, dtype=float, delimiter='\\t', skiprows=0)  \n",
    "np.savetxt(fname, arr, fmt='%.18e', delimiter=',', newline='\\n', header='')"
   ]
  },
  {
   "cell_type": "markdown",
   "metadata": {},
   "source": [
    "## numpy线性代数方法\n",
    "diag  以一维数组的形式返回方阵的对角线元素，或将一维数组转换为方阵（非对角线元素为0）  \n",
    "dot   矩阵乘法  \n",
    "trace  计算对角线元素的和  \n",
    "det   计算矩阵行列式  \n",
    "eig   计算方阵的本征值和本征向量  \n",
    "inv   计算方阵的逆  \n",
    "pinv  计算矩阵的Moore-Penrose伪逆  \n",
    "qr   计算QR分解  \n",
    "svd   计算奇异值分解  \n",
    "slove  解线性方程组Ax = b, 其中A为一个方阵  \n",
    "lstsq  计算Ax = b的最小二乘解  "
   ]
  },
  {
   "cell_type": "markdown",
   "metadata": {},
   "source": [
    "## numpy.random函数\n",
    "seed   确定随机数生成器的种子  \n",
    "permulation   返回一个序列的随机排列或返回一个随机排列的范围   \n",
    "shuffle    对一个序列就地随机排列   \n",
    "rand    产生均匀分布的样本值    \n",
    "randint   从给定的上下限范围内随机选取整数    \n",
    "randn   产生正态分布（平均值为0，标准差为1）的样本值   \n",
    "binomial   产生二项分布的样本值    \n",
    "normal    产生正态（高斯）分布的样本值   \n",
    "beta   产生Beta分布的样本值    \n",
    "chisquare   产生卡方分布的样本值   \n",
    "gamma   产生Gamma分布的样本值    \n",
    "uniform   产生在[0,1)中均匀分布的样本值   "
   ]
  },
  {
   "cell_type": "markdown",
   "metadata": {},
   "source": [
    "## 高级数组操作\n",
    "arr.reshape(n,m) #多维数组重塑维度  \n",
    "arr.ravel() #扁平化，多维变一维  \n",
    "np.concatenate([arr1, arr2], axis=0) 数组合并，axis=1按列合并    "
   ]
  },
  {
   "cell_type": "code",
   "execution_count": 18,
   "metadata": {
    "collapsed": false
   },
   "outputs": [
    {
     "data": {
      "text/plain": [
       "array([[ 1,  2,  3,  7,  8,  9],\n",
       "       [ 4,  5,  6, 10, 11, 12]])"
      ]
     },
     "execution_count": 18,
     "metadata": {},
     "output_type": "execute_result"
    }
   ],
   "source": [
    "arr1 = np.array([[1, 2, 3], [4, 5, 6]])\n",
    "arr2 = np.array([[7, 8, 9], [10, 11, 12]])\n",
    "np.concatenate([arr1, arr2], axis=0)\n",
    "np.concatenate([arr1, arr2], axis=1)"
   ]
  },
  {
   "cell_type": "code",
   "execution_count": 19,
   "metadata": {
    "collapsed": false
   },
   "outputs": [
    {
     "data": {
      "text/plain": [
       "array([[ 1,  2,  3,  7,  8,  9],\n",
       "       [ 4,  5,  6, 10, 11, 12]])"
      ]
     },
     "execution_count": 19,
     "metadata": {},
     "output_type": "execute_result"
    }
   ],
   "source": [
    "np.vstack((arr1,arr2)) \n",
    "np.hstack((arr1,arr2)) "
   ]
  },
  {
   "cell_type": "code",
   "execution_count": 24,
   "metadata": {
    "collapsed": false
   },
   "outputs": [
    {
     "data": {
      "text/plain": [
       "array([[-0.1831409 , -0.4704608 ],\n",
       "       [ 0.71055879, -1.20932075]])"
      ]
     },
     "execution_count": 24,
     "metadata": {},
     "output_type": "execute_result"
    }
   ],
   "source": [
    "from numpy.random import randn\n",
    "arr = randn(5, 2)\n",
    "arr\n",
    "first, second, third = np.split(arr, [1, 3], axis=0)\n",
    "first\n",
    "second\n",
    "third"
   ]
  },
  {
   "cell_type": "markdown",
   "metadata": {},
   "source": [
    "### 堆叠辅助类：r_和c_"
   ]
  },
  {
   "cell_type": "code",
   "execution_count": 26,
   "metadata": {
    "collapsed": false
   },
   "outputs": [
    {
     "data": {
      "text/plain": [
       "array([[ 0.        ,  1.        ,  0.        ],\n",
       "       [ 2.        ,  3.        ,  1.        ],\n",
       "       [ 4.        ,  5.        ,  2.        ],\n",
       "       [-0.64537248, -1.00749446,  3.        ],\n",
       "       [-0.02896785, -1.07243211,  4.        ],\n",
       "       [ 0.28989067,  0.71906017,  5.        ]])"
      ]
     },
     "execution_count": 26,
     "metadata": {},
     "output_type": "execute_result"
    }
   ],
   "source": [
    "arr = np.arange(6)\n",
    "arr1 = arr.reshape((3, 2))\n",
    "arr2 = randn(3, 2)\n",
    "np.r_[arr1, arr2]\n",
    "np.c_[np.r_[arr1, arr2], arr]"
   ]
  },
  {
   "cell_type": "markdown",
   "metadata": {},
   "source": [
    "## 元素重复操作：tile和repeat"
   ]
  },
  {
   "cell_type": "code",
   "execution_count": 27,
   "metadata": {
    "collapsed": false
   },
   "outputs": [
    {
     "data": {
      "text/plain": [
       "array([0, 0, 0, 1, 1, 1, 2, 2, 2])"
      ]
     },
     "execution_count": 27,
     "metadata": {},
     "output_type": "execute_result"
    }
   ],
   "source": [
    "arr = np.arange(3)\n",
    "arr.repeat(3)"
   ]
  },
  {
   "cell_type": "code",
   "execution_count": 28,
   "metadata": {
    "collapsed": false
   },
   "outputs": [
    {
     "data": {
      "text/plain": [
       "array([0, 0, 1, 1, 1, 2, 2, 2, 2])"
      ]
     },
     "execution_count": 28,
     "metadata": {},
     "output_type": "execute_result"
    }
   ],
   "source": [
    "arr.repeat([2, 3, 4])"
   ]
  },
  {
   "cell_type": "code",
   "execution_count": 32,
   "metadata": {
    "collapsed": false
   },
   "outputs": [
    {
     "data": {
      "text/plain": [
       "array([[ 1.16098708, -0.15680169],\n",
       "       [ 1.16098708, -0.15680169],\n",
       "       [ 0.12064578, -0.35940716],\n",
       "       [ 0.12064578, -0.35940716]])"
      ]
     },
     "execution_count": 32,
     "metadata": {},
     "output_type": "execute_result"
    }
   ],
   "source": [
    "arr = randn(2, 2)\n",
    "arr\n",
    "arr.repeat(2, axis=0)"
   ]
  },
  {
   "cell_type": "code",
   "execution_count": 33,
   "metadata": {
    "collapsed": false
   },
   "outputs": [
    {
     "data": {
      "text/plain": [
       "array([[ 1.16098708,  1.16098708, -0.15680169, -0.15680169, -0.15680169],\n",
       "       [ 0.12064578,  0.12064578, -0.35940716, -0.35940716, -0.35940716]])"
      ]
     },
     "execution_count": 33,
     "metadata": {},
     "output_type": "execute_result"
    }
   ],
   "source": [
    "arr.repeat([2, 3], axis=0)\n",
    "arr.repeat([2, 3], axis=1)"
   ]
  },
  {
   "cell_type": "code",
   "execution_count": 34,
   "metadata": {
    "collapsed": false
   },
   "outputs": [
    {
     "data": {
      "text/plain": [
       "array([[ 1.16098708, -0.15680169,  1.16098708, -0.15680169],\n",
       "       [ 0.12064578, -0.35940716,  0.12064578, -0.35940716]])"
      ]
     },
     "execution_count": 34,
     "metadata": {},
     "output_type": "execute_result"
    }
   ],
   "source": [
    "arr\n",
    "np.tile(arr, 2)"
   ]
  },
  {
   "cell_type": "code",
   "execution_count": 35,
   "metadata": {
    "collapsed": false
   },
   "outputs": [
    {
     "data": {
      "text/plain": [
       "array([[ 1.16098708, -0.15680169,  1.16098708, -0.15680169],\n",
       "       [ 0.12064578, -0.35940716,  0.12064578, -0.35940716],\n",
       "       [ 1.16098708, -0.15680169,  1.16098708, -0.15680169],\n",
       "       [ 0.12064578, -0.35940716,  0.12064578, -0.35940716],\n",
       "       [ 1.16098708, -0.15680169,  1.16098708, -0.15680169],\n",
       "       [ 0.12064578, -0.35940716,  0.12064578, -0.35940716]])"
      ]
     },
     "execution_count": 35,
     "metadata": {},
     "output_type": "execute_result"
    }
   ],
   "source": [
    "arr\n",
    "np.tile(arr, (2, 1))\n",
    "np.tile(arr, (3, 2))"
   ]
  },
  {
   "cell_type": "markdown",
   "metadata": {},
   "source": [
    "## take和put函数"
   ]
  },
  {
   "cell_type": "markdown",
   "metadata": {},
   "source": [
    "# 参考资料"
   ]
  },
  {
   "cell_type": "markdown",
   "metadata": {},
   "source": [
    "+ [《Python For Data Analysis》](http://book.douban.com/subject/10760444/)\n",
    "+ [NumPy User Guide](http://docs.scipy.org/doc/numpy-dev/user/)\n",
    "+ [numpy的random模块](http://www.cnblogs.com/hhh5460/p/4324967.html)"
   ]
  }
 ],
 "metadata": {
  "kernelspec": {
   "display_name": "Python 3",
   "language": "python",
   "name": "python3"
  },
  "language_info": {
   "codemirror_mode": {
    "name": "ipython",
    "version": 3
   },
   "file_extension": ".py",
   "mimetype": "text/x-python",
   "name": "python",
   "nbconvert_exporter": "python",
   "pygments_lexer": "ipython3",
   "version": "3.5.1"
  }
 },
 "nbformat": 4,
 "nbformat_minor": 0
}
